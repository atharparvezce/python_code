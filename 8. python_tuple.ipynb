{
 "cells": [
  {
   "cell_type": "markdown",
   "id": "fc4291cd-a0b3-42b9-bc65-808bafa7253c",
   "metadata": {},
   "source": [
    "# Tuple\n",
    "\n",
    "A tuple is a container which holds a series of comma-separated values (items or elements) between parentheses such as an (x, y) co-ordinate. Tuples are like lists, except they are immutable (i.e. you cannot change its content once created) and can hold mix data types. Tuples play a sort of \"struct\" role in Python -- a convenient way to pass around a little logical, fixed size bundle of values."
   ]
  },
  {
   "cell_type": "code",
   "execution_count": 1,
   "id": "5bc173df-f5b7-4fae-b233-2016eed30f32",
   "metadata": {},
   "outputs": [
    {
     "data": {
      "text/plain": [
       "tuple"
      ]
     },
     "execution_count": 1,
     "metadata": {},
     "output_type": "execute_result"
    }
   ],
   "source": [
    "# create an empty Tuples\n",
    "\n",
    "my_tuple=tuple()\n",
    "type(my_tuple)"
   ]
  },
  {
   "cell_type": "code",
   "execution_count": 3,
   "id": "87265495-317d-4198-a7c8-feae18c6e6ec",
   "metadata": {},
   "outputs": [
    {
     "data": {
      "text/plain": [
       "tuple"
      ]
     },
     "execution_count": 3,
     "metadata": {},
     "output_type": "execute_result"
    }
   ],
   "source": [
    "my_tuple=()\n",
    "type(my_tuple)"
   ]
  },
  {
   "cell_type": "code",
   "execution_count": 15,
   "id": "494c7f24-5d0d-4436-a67b-cb317b7b5330",
   "metadata": {},
   "outputs": [
    {
     "data": {
      "text/plain": [
       "tuple"
      ]
     },
     "execution_count": 15,
     "metadata": {},
     "output_type": "execute_result"
    }
   ],
   "source": [
    "my_tuple=(\"Athar\",\"Asheqeen\",\"Afzal\")\n",
    "my_tuple=('Hello','World')\n",
    "\n",
    "type(my_tuple)"
   ]
  },
  {
   "cell_type": "code",
   "execution_count": 16,
   "id": "70820d58-9466-46e0-aa42-fe8c1b0dbb35",
   "metadata": {},
   "outputs": [
    {
     "name": "stdout",
     "output_type": "stream",
     "text": [
      "('Hello', 'World')\n"
     ]
    }
   ],
   "source": [
    "print(my_tuple)"
   ]
  },
  {
   "cell_type": "code",
   "execution_count": 17,
   "id": "0b0eafbc-5532-42b4-b8d6-cbf020b5904f",
   "metadata": {},
   "outputs": [
    {
     "data": {
      "text/plain": [
       "1"
      ]
     },
     "execution_count": 17,
     "metadata": {},
     "output_type": "execute_result"
    }
   ],
   "source": [
    "# Inbuilt function\n",
    "my_tuple.count('Hello')"
   ]
  },
  {
   "cell_type": "code",
   "execution_count": 19,
   "id": "9f05f6db-bbfa-418e-8635-acf32cfbbb18",
   "metadata": {},
   "outputs": [
    {
     "data": {
      "text/plain": [
       "0"
      ]
     },
     "execution_count": 19,
     "metadata": {},
     "output_type": "execute_result"
    }
   ],
   "source": [
    "my_tuple.index('Hello')"
   ]
  },
  {
   "cell_type": "code",
   "execution_count": null,
   "id": "20ea2467-352b-4be5-bab4-008943c1b38a",
   "metadata": {},
   "outputs": [],
   "source": []
  }
 ],
 "metadata": {
  "kernelspec": {
   "display_name": "Python 3 (ipykernel)",
   "language": "python",
   "name": "python3"
  },
  "language_info": {
   "codemirror_mode": {
    "name": "ipython",
    "version": 3
   },
   "file_extension": ".py",
   "mimetype": "text/x-python",
   "name": "python",
   "nbconvert_exporter": "python",
   "pygments_lexer": "ipython3",
   "version": "3.12.7"
  }
 },
 "nbformat": 4,
 "nbformat_minor": 5
}
