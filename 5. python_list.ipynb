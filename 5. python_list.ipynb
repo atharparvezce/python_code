{
 "cells": [
  {
   "cell_type": "markdown",
   "id": "3449cb48-928b-4fad-a50d-9c49932586c6",
   "metadata": {},
   "source": [
    "# String and List"
   ]
  },
  {
   "cell_type": "markdown",
   "id": "cd38e552-dcd4-4cdd-9f0b-9121d66654b9",
   "metadata": {},
   "source": [
    "# String"
   ]
  },
  {
   "cell_type": "code",
   "execution_count": 165,
   "id": "deef3558-595b-4ae2-86cd-a7c1174b9575",
   "metadata": {},
   "outputs": [],
   "source": [
    "# strings are immutable"
   ]
  },
  {
   "cell_type": "code",
   "execution_count": 166,
   "id": "fe5b1228-ded9-4fe7-8cbe-7bb8471e677f",
   "metadata": {},
   "outputs": [
    {
     "name": "stdout",
     "output_type": "stream",
     "text": [
      "Athar\n"
     ]
    },
    {
     "data": {
      "text/plain": [
       "str"
      ]
     },
     "execution_count": 166,
     "metadata": {},
     "output_type": "execute_result"
    }
   ],
   "source": [
    "str1 = \"Athar\"\n",
    "print(str1)\n",
    "type(str1)"
   ]
  },
  {
   "cell_type": "code",
   "execution_count": 167,
   "id": "c2bd3f85-d253-4c2d-aaca-4ac2e3a333db",
   "metadata": {},
   "outputs": [
    {
     "name": "stdout",
     "output_type": "stream",
     "text": [
      "Parvez\n"
     ]
    },
    {
     "data": {
      "text/plain": [
       "str"
      ]
     },
     "execution_count": 167,
     "metadata": {},
     "output_type": "execute_result"
    }
   ],
   "source": [
    "str1 = \"Parvez\"\n",
    "print(str1)\n",
    "type(str1)"
   ]
  },
  {
   "cell_type": "code",
   "execution_count": 168,
   "id": "09e26b5c-3436-45c0-ab73-0995561e88f6",
   "metadata": {},
   "outputs": [
    {
     "ename": "TypeError",
     "evalue": "'str' object does not support item assignment",
     "output_type": "error",
     "traceback": [
      "\u001b[0;31m---------------------------------------------------------------------------\u001b[0m",
      "\u001b[0;31mTypeError\u001b[0m                                 Traceback (most recent call last)",
      "Cell \u001b[0;32mIn[168], line 3\u001b[0m\n\u001b[1;32m      1\u001b[0m \u001b[38;5;66;03m# you can't change specific positions of string thats why we called string is immutable\u001b[39;00m\n\u001b[0;32m----> 3\u001b[0m str1[\u001b[38;5;241m2\u001b[39m]\u001b[38;5;241m=\u001b[39m\u001b[38;5;124m\"\u001b[39m\u001b[38;5;124mjk\u001b[39m\u001b[38;5;124m\"\u001b[39m\n",
      "\u001b[0;31mTypeError\u001b[0m: 'str' object does not support item assignment"
     ]
    }
   ],
   "source": [
    "# you can't change specific positions of string thats why we called string is immutable\n",
    "\n",
    "str1[2]=\"jk\" "
   ]
  },
  {
   "cell_type": "markdown",
   "id": "d785f7d5-20ac-4094-b1c4-e59cf8a104ba",
   "metadata": {},
   "source": [
    "# List"
   ]
  },
  {
   "cell_type": "code",
   "execution_count": 169,
   "id": "b85a5546-42fb-400d-87dd-63708dd0b499",
   "metadata": {},
   "outputs": [
    {
     "name": "stdout",
     "output_type": "stream",
     "text": [
      "[1, 2, 3, 4, 'Athar', 'Hello']\n",
      "Parvez\n",
      "[1, 2, 3, 4, 'Parvez', 'Hello']\n"
     ]
    }
   ],
   "source": [
    "# Lists are mutable\n",
    "\n",
    "lst=[1,2,3,4,\"Athar\",\"Hello\"]\n",
    "print(lst)\n",
    "lst[4]=\"Parvez\"\n",
    "print(lst[4])\n",
    "print(lst)"
   ]
  },
  {
   "cell_type": "code",
   "execution_count": 170,
   "id": "2fab6edc-837c-4c72-8aaa-ff6039435f48",
   "metadata": {},
   "outputs": [
    {
     "name": "stdout",
     "output_type": "stream",
     "text": [
      "[1, 2, 3, 4, 5]\n"
     ]
    }
   ],
   "source": [
    "lst=list((1,2,3,4,5))\n",
    "type(lst)\n",
    "print(lst)"
   ]
  },
  {
   "cell_type": "code",
   "execution_count": 171,
   "id": "c220e23c-525b-4ca7-8e1d-eab3d9eb1184",
   "metadata": {},
   "outputs": [
    {
     "name": "stdout",
     "output_type": "stream",
     "text": [
      "1\n",
      "4\n",
      "9\n",
      "16\n",
      "25\n"
     ]
    }
   ],
   "source": [
    "for i  in lst:\n",
    "    print(i**2)"
   ]
  },
  {
   "cell_type": "code",
   "execution_count": 172,
   "id": "00eba77d-6f27-42ea-8336-a3d77db422ce",
   "metadata": {},
   "outputs": [
    {
     "data": {
      "text/plain": [
       "list"
      ]
     },
     "execution_count": 172,
     "metadata": {},
     "output_type": "execute_result"
    }
   ],
   "source": [
    "type([])"
   ]
  },
  {
   "cell_type": "code",
   "execution_count": 173,
   "id": "8bf22bec-02ac-4ba1-82dd-b64b0ec8b388",
   "metadata": {},
   "outputs": [
    {
     "data": {
      "text/plain": [
       "list"
      ]
     },
     "execution_count": 173,
     "metadata": {},
     "output_type": "execute_result"
    }
   ],
   "source": [
    "lst_example=[]\n",
    "type(lst_example)"
   ]
  },
  {
   "cell_type": "code",
   "execution_count": 174,
   "id": "c4fa1f74-f8f7-46c8-b02d-53d7af3b51e2",
   "metadata": {},
   "outputs": [
    {
     "data": {
      "text/plain": [
       "list"
      ]
     },
     "execution_count": 174,
     "metadata": {},
     "output_type": "execute_result"
    }
   ],
   "source": [
    "lst=list()\n",
    "type(lst)"
   ]
  },
  {
   "cell_type": "code",
   "execution_count": 175,
   "id": "e1177ad5-423f-442e-9f8f-75def135fa56",
   "metadata": {},
   "outputs": [
    {
     "data": {
      "text/plain": [
       "6"
      ]
     },
     "execution_count": 175,
     "metadata": {},
     "output_type": "execute_result"
    }
   ],
   "source": [
    "lst=['Mathematics', 'chemistry', 100, 200, 300, 204]\n",
    "\n",
    "len(lst)"
   ]
  },
  {
   "cell_type": "code",
   "execution_count": 176,
   "id": "7886fbd2-adf4-4722-a305-bff8037b0166",
   "metadata": {},
   "outputs": [
    {
     "data": {
      "text/plain": [
       "list"
      ]
     },
     "execution_count": 176,
     "metadata": {},
     "output_type": "execute_result"
    }
   ],
   "source": [
    "type(lst)"
   ]
  },
  {
   "cell_type": "markdown",
   "id": "14665e24-5eb4-4120-8129-863dcd3e0190",
   "metadata": {},
   "source": [
    "# Append "
   ]
  },
  {
   "cell_type": "code",
   "execution_count": 177,
   "id": "ca609236-a918-4e42-a8d2-6ce93b46a745",
   "metadata": {},
   "outputs": [
    {
     "name": "stdout",
     "output_type": "stream",
     "text": [
      "[1, 2, 3, 4, 5, 'Mr']\n"
     ]
    }
   ],
   "source": [
    "# append() (it is used to add elements in the end of the list)\n",
    "\n",
    "lst1 =[1,2,3,4,5]\n",
    "lst1.append(\"Mr\")\n",
    "print(lst1)"
   ]
  },
  {
   "cell_type": "code",
   "execution_count": 178,
   "id": "50af9d2e-fe99-404c-876b-4fbb0248e249",
   "metadata": {},
   "outputs": [
    {
     "data": {
      "text/plain": [
       "[1, 2, 3, 4, 5, 'Mr', ['Haji', 'Baba']]"
      ]
     },
     "execution_count": 178,
     "metadata": {},
     "output_type": "execute_result"
    }
   ],
   "source": [
    "lst1.append([\"Haji\",\"Baba\"])\n",
    "lst1"
   ]
  },
  {
   "cell_type": "code",
   "execution_count": 179,
   "id": "19620b76-8147-448c-8cb2-aeeed82b7c11",
   "metadata": {},
   "outputs": [
    {
     "data": {
      "text/plain": [
       "[3, 4, 5, 'Mr']"
      ]
     },
     "execution_count": 179,
     "metadata": {},
     "output_type": "execute_result"
    }
   ],
   "source": [
    "lst1[2:6]"
   ]
  },
  {
   "cell_type": "code",
   "execution_count": 180,
   "id": "e8c4e485-4ae3-4636-b273-639973156c2e",
   "metadata": {},
   "outputs": [
    {
     "data": {
      "text/plain": [
       "'Mr'"
      ]
     },
     "execution_count": 180,
     "metadata": {},
     "output_type": "execute_result"
    }
   ],
   "source": [
    "# Indexing in List\n",
    "lst1[5]\n"
   ]
  },
  {
   "cell_type": "code",
   "execution_count": 181,
   "id": "2f069ec9-fa9d-477d-9f23-a89f883aaf3a",
   "metadata": {},
   "outputs": [
    {
     "data": {
      "text/plain": [
       "[2, 3, 4, 5, 'Mr']"
      ]
     },
     "execution_count": 181,
     "metadata": {},
     "output_type": "execute_result"
    }
   ],
   "source": [
    "lst1[1:6]"
   ]
  },
  {
   "cell_type": "markdown",
   "id": "4c7ad396-b8b3-4555-8cee-080178c509ea",
   "metadata": {},
   "source": [
    "# Insert"
   ]
  },
  {
   "cell_type": "code",
   "execution_count": 182,
   "id": "67542af2-2fe8-488a-9660-3e5cfce4075d",
   "metadata": {},
   "outputs": [
    {
     "data": {
      "text/plain": [
       "[1, 2, 3, 4, 5, 'Mr', ['Haji', 'Baba']]"
      ]
     },
     "execution_count": 182,
     "metadata": {},
     "output_type": "execute_result"
    }
   ],
   "source": [
    "#insert() ( it is used to insert in a specific order)\n",
    "\n",
    "lst1"
   ]
  },
  {
   "cell_type": "code",
   "execution_count": 183,
   "id": "fd59d928-32c5-4108-a942-a9446222fbb6",
   "metadata": {},
   "outputs": [
    {
     "data": {
      "text/plain": [
       "[1, 2, 'Janab', 3, 4, 5, 'Mr', ['Haji', 'Baba']]"
      ]
     },
     "execution_count": 183,
     "metadata": {},
     "output_type": "execute_result"
    }
   ],
   "source": [
    "lst1.insert(2,\"Janab\")\n",
    "lst1"
   ]
  },
  {
   "cell_type": "markdown",
   "id": "ccb5c0dc-9a86-4efd-a17a-0f5736db4ce4",
   "metadata": {},
   "source": [
    "# Extend method"
   ]
  },
  {
   "cell_type": "code",
   "execution_count": 184,
   "id": "fea83b8b-456f-486e-8310-b6afc936b41d",
   "metadata": {},
   "outputs": [],
   "source": [
    "lst2=[1,2,3,4,5,6]"
   ]
  },
  {
   "cell_type": "code",
   "execution_count": 185,
   "id": "7f4cab66-c08a-4062-bfac-2c8ba3e4998e",
   "metadata": {},
   "outputs": [
    {
     "data": {
      "text/plain": [
       "[1, 2, 3, 4, 5, 6, [8, 9]]"
      ]
     },
     "execution_count": 185,
     "metadata": {},
     "output_type": "execute_result"
    }
   ],
   "source": [
    "lst2.append([8,9])\n",
    "lst2"
   ]
  },
  {
   "cell_type": "code",
   "execution_count": 186,
   "id": "268fd041-3794-4df1-b118-933b8b5f4730",
   "metadata": {},
   "outputs": [
    {
     "data": {
      "text/plain": [
       "[1, 2, 3, 4, 5, 6, 8, 9]"
      ]
     },
     "execution_count": 186,
     "metadata": {},
     "output_type": "execute_result"
    }
   ],
   "source": [
    "lst3=[1,2,3,4,5,6]\n",
    "lst3.extend([8,9])\n",
    "lst3\n"
   ]
  },
  {
   "cell_type": "markdown",
   "id": "d72db33f-c748-45ce-8b79-026f685dfb5c",
   "metadata": {},
   "source": [
    "# Various operations that we can perform in List"
   ]
  },
  {
   "cell_type": "code",
   "execution_count": 187,
   "id": "de8ec466-14b1-4b39-b890-07b3e8cdf2c7",
   "metadata": {},
   "outputs": [],
   "source": [
    "lst4=[1,2,3,4,5]"
   ]
  },
  {
   "cell_type": "code",
   "execution_count": 188,
   "id": "2b9a1e5d-f9bc-4fcc-93a4-f9f60ac2f5e9",
   "metadata": {},
   "outputs": [
    {
     "data": {
      "text/plain": [
       "15"
      ]
     },
     "execution_count": 188,
     "metadata": {},
     "output_type": "execute_result"
    }
   ],
   "source": [
    "sum(lst4)"
   ]
  },
  {
   "cell_type": "code",
   "execution_count": 189,
   "id": "f5645cba-6975-4584-b5de-47f9b02ec500",
   "metadata": {},
   "outputs": [
    {
     "data": {
      "text/plain": [
       "[1, 2, 3, 4, 5, 1, 2, 3, 4, 5, 1, 2, 3, 4, 5, 1, 2, 3, 4, 5, 1, 2, 3, 4, 5]"
      ]
     },
     "execution_count": 189,
     "metadata": {},
     "output_type": "execute_result"
    }
   ],
   "source": [
    "lst4*5"
   ]
  },
  {
   "cell_type": "code",
   "execution_count": 194,
   "id": "8d670299-cf43-4686-a752-aa1dae0a61bb",
   "metadata": {},
   "outputs": [
    {
     "ename": "TypeError",
     "evalue": "can only concatenate list (not \"int\") to list",
     "output_type": "error",
     "traceback": [
      "\u001b[0;31m---------------------------------------------------------------------------\u001b[0m",
      "\u001b[0;31mTypeError\u001b[0m                                 Traceback (most recent call last)",
      "Cell \u001b[0;32mIn[194], line 3\u001b[0m\n\u001b[1;32m      1\u001b[0m \u001b[38;5;66;03m# you can't do any other operations directly with the list\u001b[39;00m\n\u001b[0;32m----> 3\u001b[0m lst4\u001b[38;5;241m+\u001b[39m\u001b[38;5;241m5\u001b[39m\n",
      "\u001b[0;31mTypeError\u001b[0m: can only concatenate list (not \"int\") to list"
     ]
    }
   ],
   "source": [
    "# you can't do any other operations directly with the list\n",
    "\n",
    "lst4+5"
   ]
  },
  {
   "cell_type": "markdown",
   "id": "5094a619-7f09-421d-8175-e3d1a51d7e11",
   "metadata": {},
   "source": [
    "# pop() method"
   ]
  },
  {
   "cell_type": "code",
   "execution_count": 195,
   "id": "377b6073-f5b6-4952-bf2a-0aaebf93947d",
   "metadata": {},
   "outputs": [],
   "source": [
    "lst5 = [1,2,3,4,5,6]"
   ]
  },
  {
   "cell_type": "code",
   "execution_count": 196,
   "id": "bba1acf1-4fda-460f-8fdc-d27593af0906",
   "metadata": {},
   "outputs": [
    {
     "data": {
      "text/plain": [
       "6"
      ]
     },
     "execution_count": 196,
     "metadata": {},
     "output_type": "execute_result"
    }
   ],
   "source": [
    "lst5.pop()"
   ]
  },
  {
   "cell_type": "code",
   "execution_count": 197,
   "id": "91bfc29d-0f38-4cc3-91a5-85fa546f679e",
   "metadata": {},
   "outputs": [
    {
     "data": {
      "text/plain": [
       "[1, 2, 3, 4, 5]"
      ]
     },
     "execution_count": 197,
     "metadata": {},
     "output_type": "execute_result"
    }
   ],
   "source": [
    "lst5"
   ]
  },
  {
   "cell_type": "code",
   "execution_count": 198,
   "id": "962ad2a8-1071-43e4-9c68-71fa40d88560",
   "metadata": {},
   "outputs": [
    {
     "data": {
      "text/plain": [
       "4"
      ]
     },
     "execution_count": 198,
     "metadata": {},
     "output_type": "execute_result"
    }
   ],
   "source": [
    "lst5.pop(3)"
   ]
  },
  {
   "cell_type": "code",
   "execution_count": 199,
   "id": "15d7f2b3-c6c1-41e1-b8f8-76397f9beeec",
   "metadata": {},
   "outputs": [
    {
     "data": {
      "text/plain": [
       "[1, 2, 3, 5]"
      ]
     },
     "execution_count": 199,
     "metadata": {},
     "output_type": "execute_result"
    }
   ],
   "source": [
    "lst5"
   ]
  },
  {
   "cell_type": "code",
   "execution_count": 200,
   "id": "ff357e47-58cb-425e-9248-962bb208a63d",
   "metadata": {},
   "outputs": [
    {
     "data": {
      "text/plain": [
       "2"
      ]
     },
     "execution_count": 200,
     "metadata": {},
     "output_type": "execute_result"
    }
   ],
   "source": [
    "#count(): Calculates total occurrence of given element of List\n",
    "\n",
    "lst6=[0,1,2,3,4,5,5]\n",
    "lst6.count(5)"
   ]
  },
  {
   "cell_type": "code",
   "execution_count": 202,
   "id": "ec151c70-5945-44e1-89c3-87e54ba103fd",
   "metadata": {},
   "outputs": [
    {
     "data": {
      "text/plain": [
       "7"
      ]
     },
     "execution_count": 202,
     "metadata": {},
     "output_type": "execute_result"
    }
   ],
   "source": [
    "# length: Calculates total length of List\n",
    "\n",
    "len(lst6)"
   ]
  },
  {
   "cell_type": "code",
   "execution_count": 203,
   "id": "7b1051a8-6545-4ce8-8903-ee52f3c9ee55",
   "metadata": {},
   "outputs": [
    {
     "data": {
      "text/plain": [
       "5"
      ]
     },
     "execution_count": 203,
     "metadata": {},
     "output_type": "execute_result"
    }
   ],
   "source": [
    "# index(): Returns the index of first occurrence. Start and End index are not necessary parameters\n",
    "\n",
    "lst6.index(5,1,7)"
   ]
  },
  {
   "cell_type": "code",
   "execution_count": 204,
   "id": "00f00f0d-b75a-40f9-ac59-e5abe154d0e4",
   "metadata": {},
   "outputs": [
    {
     "data": {
      "text/plain": [
       "3"
      ]
     },
     "execution_count": 204,
     "metadata": {},
     "output_type": "execute_result"
    }
   ],
   "source": [
    "lst6.index(3)"
   ]
  },
  {
   "cell_type": "code",
   "execution_count": 205,
   "id": "6a5fbdaa-ced5-419e-bdbd-31df35abafa2",
   "metadata": {},
   "outputs": [
    {
     "data": {
      "text/plain": [
       "0"
      ]
     },
     "execution_count": 205,
     "metadata": {},
     "output_type": "execute_result"
    }
   ],
   "source": [
    "min(lst6)"
   ]
  },
  {
   "cell_type": "code",
   "execution_count": 206,
   "id": "84037679-3af3-4b81-a418-420eda0eab6c",
   "metadata": {},
   "outputs": [
    {
     "data": {
      "text/plain": [
       "5"
      ]
     },
     "execution_count": 206,
     "metadata": {},
     "output_type": "execute_result"
    }
   ],
   "source": [
    "max(lst6)"
   ]
  }
 ],
 "metadata": {
  "kernelspec": {
   "display_name": "Python 3 (ipykernel)",
   "language": "python",
   "name": "python3"
  },
  "language_info": {
   "codemirror_mode": {
    "name": "ipython",
    "version": 3
   },
   "file_extension": ".py",
   "mimetype": "text/x-python",
   "name": "python",
   "nbconvert_exporter": "python",
   "pygments_lexer": "ipython3",
   "version": "3.12.7"
  }
 },
 "nbformat": 4,
 "nbformat_minor": 5
}
