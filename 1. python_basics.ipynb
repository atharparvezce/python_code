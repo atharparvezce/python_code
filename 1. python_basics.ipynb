{
 "cells": [
  {
   "cell_type": "markdown",
   "id": "d9a80700-cd03-453d-a6b0-66d4d54ba613",
   "metadata": {},
   "source": [
    "# Python Basics"
   ]
  },
  {
   "cell_type": "code",
   "execution_count": 1,
   "id": "30ea19dc-e5f4-4972-afa0-3fb67145191d",
   "metadata": {},
   "outputs": [
    {
     "name": "stdout",
     "output_type": "stream",
     "text": [
      "Hello World\n"
     ]
    }
   ],
   "source": [
    "print(\"Hello World\")"
   ]
  },
  {
   "cell_type": "code",
   "execution_count": 3,
   "id": "ea77177c-edaa-45eb-bcc5-21ad043f8cac",
   "metadata": {},
   "outputs": [
    {
     "name": "stdout",
     "output_type": "stream",
     "text": [
      "Ok\n"
     ]
    }
   ],
   "source": [
    "# Single Line Comment\n",
    "\n",
    "'''\n",
    "\n",
    "Multi Lines\n",
    "Comments\n",
    "\n",
    "'''\n",
    "\n",
    "print(\"Ok\")"
   ]
  },
  {
   "cell_type": "code",
   "execution_count": 21,
   "id": "743b2c86-7a87-4fe0-9fe8-f63374e9622b",
   "metadata": {},
   "outputs": [
    {
     "name": "stdout",
     "output_type": "stream",
     "text": [
      "10\n",
      "10.2\n",
      "Athar\n",
      "ICS\n",
      "<class 'int'>\n",
      "<class 'float'>\n",
      "<class 'str'>\n",
      "<class 'str'>\n"
     ]
    }
   ],
   "source": [
    "# variable declaration\n",
    "\n",
    "a=10;\n",
    "b=10.2\n",
    "name=\"Athar\"\n",
    "dpt='ICS'\n",
    "\n",
    "print(a)\n",
    "print(b)\n",
    "print(name)\n",
    "print(dpt)\n",
    "\n",
    "print(type(a))\n",
    "print(type(b))\n",
    "print(type(name))\n",
    "print(type(dpt))\n"
   ]
  },
  {
   "cell_type": "code",
   "execution_count": 30,
   "id": "d04312a0-1fa2-4af6-b331-529656bc6186",
   "metadata": {},
   "outputs": [
    {
     "name": "stdout",
     "output_type": "stream",
     "text": [
      "30\n"
     ]
    }
   ],
   "source": [
    "# typecasting1\n",
    "\n",
    "a=10;\n",
    "b=20.3\n",
    "\n",
    "print(a+int(b))"
   ]
  },
  {
   "cell_type": "code",
   "execution_count": 43,
   "id": "8d9cd77a-aa40-429a-bf09-620ad2e472c8",
   "metadata": {},
   "outputs": [
    {
     "name": "stdout",
     "output_type": "stream",
     "text": [
      "<class 'str'>\n",
      "<class 'str'>\n",
      "<class 'int'>\n",
      "Athar Parvez 9581170411\n"
     ]
    }
   ],
   "source": [
    "# typecasting2\n",
    "\n",
    "first_name=\"Athar\";\n",
    "last_name=\" Parvez \";\n",
    "contact= 9581170411\n",
    "\n",
    "print(type(first_name))\n",
    "print(type(last_name))\n",
    "print(type(contact))\n",
    "\n",
    "print(first_name + last_name + str(contact))"
   ]
  },
  {
   "cell_type": "code",
   "execution_count": 56,
   "id": "9692d10d-e3f8-4539-96d5-ebe03800b88b",
   "metadata": {},
   "outputs": [
    {
     "name": "stdout",
     "output_type": "stream",
     "text": [
      "200\n",
      "Athar\n"
     ]
    }
   ],
   "source": [
    "#dynamic typing\n",
    "\n",
    "a=200\n",
    "print(a)\n",
    "\n",
    "a='Athar'\n",
    "print(a)"
   ]
  },
  {
   "cell_type": "code",
   "execution_count": 57,
   "id": "d38ea3d1-65cd-4632-b8c9-dab382fd0044",
   "metadata": {},
   "outputs": [
    {
     "name": "stdout",
     "output_type": "stream",
     "text": [
      "Athar1\n",
      "Athar Parvez\n"
     ]
    }
   ],
   "source": [
    "#strong typing\n",
    "\n",
    "name=\"Athar\"\n",
    "print(name+str(1))\n",
    "print(name+str(\" Parvez\"))\n"
   ]
  },
  {
   "cell_type": "code",
   "execution_count": 62,
   "id": "e2381703-704f-4bbc-aaaf-0c21ff75e005",
   "metadata": {},
   "outputs": [
    {
     "name": "stdout",
     "output_type": "stream",
     "text": [
      "Value of i = 20\n"
     ]
    }
   ],
   "source": [
    "#string formatting1\n",
    "\n",
    "i=20\n",
    "print(\"Value of i =\" , i)"
   ]
  },
  {
   "cell_type": "code",
   "execution_count": 74,
   "id": "5d0eebda-7ff0-4b36-94ed-e4ebd8abe3a8",
   "metadata": {},
   "outputs": [
    {
     "name": "stdout",
     "output_type": "stream",
     "text": [
      "My first name is Athar and my second name is Parvez\n"
     ]
    }
   ],
   "source": [
    "#string formatting2\n",
    "\n",
    "first_name=\"Athar\";\n",
    "last_name=\"Parvez\";\n",
    "\n",
    "print(\"My first name is {} and my second name is {}\" .format(first_name,last_name))"
   ]
  },
  {
   "cell_type": "code",
   "execution_count": 80,
   "id": "1ff1e285-458d-4ae8-82ca-5102cda42a66",
   "metadata": {},
   "outputs": [
    {
     "name": "stdin",
     "output_type": "stream",
     "text": [
      "Enter the value of A: 456\n",
      "Enter the value of b: 34.211\n"
     ]
    },
    {
     "name": "stdout",
     "output_type": "stream",
     "text": [
      "490.211\n"
     ]
    }
   ],
   "source": [
    "# input type\n",
    "\n",
    "A= input(\"Enter the value of A:\")\n",
    "B= input(\"Enter the value of b:\")\n",
    "\n",
    "result =int(A)+float(B)\n",
    "print(result)"
   ]
  },
  {
   "cell_type": "code",
   "execution_count": null,
   "id": "31ed722b-6a53-4c2c-bbc9-5ab23a91e3d8",
   "metadata": {},
   "outputs": [],
   "source": []
  }
 ],
 "metadata": {
  "kernelspec": {
   "display_name": "Python 3 (ipykernel)",
   "language": "python",
   "name": "python3"
  },
  "language_info": {
   "codemirror_mode": {
    "name": "ipython",
    "version": 3
   },
   "file_extension": ".py",
   "mimetype": "text/x-python",
   "name": "python",
   "nbconvert_exporter": "python",
   "pygments_lexer": "ipython3",
   "version": "3.12.7"
  }
 },
 "nbformat": 4,
 "nbformat_minor": 5
}
