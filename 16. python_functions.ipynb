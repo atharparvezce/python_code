{
 "cells": [
  {
   "cell_type": "code",
   "execution_count": 34,
   "id": "c0bcd02d-c39b-4b91-a4de-e1a94d2509ca",
   "metadata": {},
   "outputs": [],
   "source": [
    "def welcome():\n",
    "    print(\"Hello Sir from wlcm\")"
   ]
  },
  {
   "cell_type": "code",
   "execution_count": 35,
   "id": "3cac5c5f-e204-4c6f-ae18-95ce956a7492",
   "metadata": {},
   "outputs": [
    {
     "name": "stdout",
     "output_type": "stream",
     "text": [
      "Hello Sir from wlcm\n"
     ]
    }
   ],
   "source": [
    "welcome()"
   ]
  },
  {
   "cell_type": "code",
   "execution_count": 36,
   "id": "5c653bdd-d0a8-47ca-b391-e0855271c120",
   "metadata": {},
   "outputs": [
    {
     "name": "stdout",
     "output_type": "stream",
     "text": [
      "Hello Sir from wlcm\n",
      "None\n"
     ]
    }
   ],
   "source": [
    "print(welcome())"
   ]
  },
  {
   "cell_type": "code",
   "execution_count": 37,
   "id": "7df3c26d-162c-4805-9365-df80ffbca61f",
   "metadata": {},
   "outputs": [
    {
     "name": "stdout",
     "output_type": "stream",
     "text": [
      "Hello Sir from wlcm\n",
      "None\n"
     ]
    }
   ],
   "source": [
    "msg=welcome()\n",
    "print(msg)"
   ]
  },
  {
   "cell_type": "code",
   "execution_count": 38,
   "id": "c1abdd15-0a9d-4718-ab82-45abeb7cf3d3",
   "metadata": {},
   "outputs": [],
   "source": [
    "def welcome1():\n",
    "    return \"Hello Sir from wlcm1\""
   ]
  },
  {
   "cell_type": "code",
   "execution_count": 39,
   "id": "08640d7b-aa57-448e-bdc5-3c48e6d939c3",
   "metadata": {},
   "outputs": [
    {
     "data": {
      "text/plain": [
       "'Hello Sir from wlcm1'"
      ]
     },
     "execution_count": 39,
     "metadata": {},
     "output_type": "execute_result"
    }
   ],
   "source": [
    "welcome1()"
   ]
  },
  {
   "cell_type": "code",
   "execution_count": 40,
   "id": "4787e13f-3626-4ad3-be6b-f293ae78e143",
   "metadata": {},
   "outputs": [
    {
     "name": "stdout",
     "output_type": "stream",
     "text": [
      "Hello Sir from wlcm1\n"
     ]
    }
   ],
   "source": [
    "print(welcome1())"
   ]
  },
  {
   "cell_type": "code",
   "execution_count": 41,
   "id": "6e9b78c7-0722-4eb3-ac7f-cb058737dae3",
   "metadata": {},
   "outputs": [
    {
     "name": "stdout",
     "output_type": "stream",
     "text": [
      "Hello Sir from wlcm1\n"
     ]
    }
   ],
   "source": [
    "msg=welcome1()\n",
    "print(msg)"
   ]
  },
  {
   "cell_type": "code",
   "execution_count": 42,
   "id": "59195a9b-5196-4310-9248-11430ae83d31",
   "metadata": {},
   "outputs": [],
   "source": [
    "def welcome2(msg):\n",
    "    return msg"
   ]
  },
  {
   "cell_type": "code",
   "execution_count": 45,
   "id": "f8c3f0e4-c886-4271-8a63-1737af08ed9c",
   "metadata": {},
   "outputs": [
    {
     "name": "stdout",
     "output_type": "stream",
     "text": [
      "Hello Sir from wlcm2\n"
     ]
    }
   ],
   "source": [
    "msg=welcome2(\"Hello Sir from wlcm2\")\n",
    "print(msg)"
   ]
  },
  {
   "cell_type": "code",
   "execution_count": 59,
   "id": "168cd603-fe74-4267-adb3-38ad7b497a4d",
   "metadata": {},
   "outputs": [
    {
     "name": "stdout",
     "output_type": "stream",
     "text": [
      "308 316\n"
     ]
    }
   ],
   "source": [
    "\n",
    "def even_odd_sum(lst):\n",
    "    even_sum=0\n",
    "    odd_sum=0\n",
    "    for i in lst:\n",
    "        if(i%2==0):\n",
    "            even_sum+=i\n",
    "        else:\n",
    "            odd_sum+=i\n",
    "\n",
    "    return even_sum,odd_sum\n",
    "\n",
    "sum1,sum2=even_odd_sum([2,4,3,7,34,56,34,12,34,56,76,13,37,91,71,51,43])\n",
    "print(sum1, sum2)\n",
    "            \n",
    "            \n",
    "        "
   ]
  }
 ],
 "metadata": {
  "kernelspec": {
   "display_name": "Python 3 (ipykernel)",
   "language": "python",
   "name": "python3"
  },
  "language_info": {
   "codemirror_mode": {
    "name": "ipython",
    "version": 3
   },
   "file_extension": ".py",
   "mimetype": "text/x-python",
   "name": "python",
   "nbconvert_exporter": "python",
   "pygments_lexer": "ipython3",
   "version": "3.12.7"
  }
 },
 "nbformat": 4,
 "nbformat_minor": 5
}
