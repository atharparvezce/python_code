{
 "cells": [
  {
   "cell_type": "code",
   "execution_count": 8,
   "id": "aca59dbd-50dd-44ac-ab7b-b3337b0fc3b9",
   "metadata": {},
   "outputs": [
    {
     "name": "stdout",
     "output_type": "stream",
     "text": [
      "My name is Athar\n"
     ]
    }
   ],
   "source": [
    "# positional argument\n",
    "\n",
    "def hello1(name):\n",
    "        print(\"My name is \" + name)\n",
    "\n",
    "hello1(\"Athar\")\n",
    "    "
   ]
  },
  {
   "cell_type": "code",
   "execution_count": 9,
   "id": "947e22c2-96af-4c42-9a53-1288bfa82241",
   "metadata": {},
   "outputs": [
    {
     "name": "stdout",
     "output_type": "stream",
     "text": [
      "My age is 26\n"
     ]
    }
   ],
   "source": [
    "# keyword argument\n",
    "\n",
    "def hello2(age=15):\n",
    "        print(\"My age is \" + str(age))\n",
    "\n",
    "hello2(26)"
   ]
  },
  {
   "cell_type": "code",
   "execution_count": 15,
   "id": "36a57eb3-eab2-4fc7-ab1b-be333c8157cc",
   "metadata": {},
   "outputs": [
    {
     "name": "stdout",
     "output_type": "stream",
     "text": [
      "My age is 26\n"
     ]
    }
   ],
   "source": [
    "def hello2(age):\n",
    "        print(\"My age is \" + str(age))\n",
    "\n",
    "hello2(age=26)"
   ]
  },
  {
   "cell_type": "code",
   "execution_count": 16,
   "id": "1fe43e40-08f1-445a-b1d7-baad21f95f5d",
   "metadata": {},
   "outputs": [
    {
     "name": "stdout",
     "output_type": "stream",
     "text": [
      "My age is 15\n"
     ]
    }
   ],
   "source": [
    "def hello3(age=15):\n",
    "        print(\"My age is \" + str(age))\n",
    "\n",
    "hello3()"
   ]
  },
  {
   "cell_type": "code",
   "execution_count": 49,
   "id": "a4eb7a8e-0470-48c5-a316-9fe43a652f79",
   "metadata": {},
   "outputs": [],
   "source": [
    "def hello(*args, **kwargs):\n",
    "    print(args)\n",
    "    print(kwargs) "
   ]
  },
  {
   "cell_type": "code",
   "execution_count": 50,
   "id": "46ddbb7f-1dd1-43d9-8eec-7a077d8974f9",
   "metadata": {},
   "outputs": [
    {
     "name": "stdout",
     "output_type": "stream",
     "text": [
      "('Athar', 'Parvez')\n",
      "{'age': 26, 'dob': 1998}\n"
     ]
    }
   ],
   "source": [
    "hello4(\"Athar\" , \"Parvez\" , age=26,dob=1998)"
   ]
  },
  {
   "cell_type": "code",
   "execution_count": 51,
   "id": "80dca88c-b867-40c6-b799-6f823fd374d6",
   "metadata": {},
   "outputs": [
    {
     "name": "stdout",
     "output_type": "stream",
     "text": [
      "(['Athar', 'Parvez'], {'age': 26, 'dob': 1998})\n",
      "{}\n"
     ]
    }
   ],
   "source": [
    "# it consider both as positional args\n",
    "\n",
    "lst = list(('Athar', 'Parvez'))\n",
    "dict1 = {'age': 26, 'dob': 1998}\n",
    "\n",
    "hello(lst, dict1)  \n"
   ]
  },
  {
   "cell_type": "code",
   "execution_count": 52,
   "id": "e8de9023-5d9b-491a-b6b0-f977fa04af1d",
   "metadata": {},
   "outputs": [
    {
     "name": "stdout",
     "output_type": "stream",
     "text": [
      "('Athar', 'Parvez')\n",
      "{'age': 26, 'dob': 1998}\n"
     ]
    }
   ],
   "source": [
    "# now first one is positional and second one is keyword argument\n",
    "\n",
    "hello(*lst, **dict1)  "
   ]
  }
 ],
 "metadata": {
  "kernelspec": {
   "display_name": "Python 3 (ipykernel)",
   "language": "python",
   "name": "python3"
  },
  "language_info": {
   "codemirror_mode": {
    "name": "ipython",
    "version": 3
   },
   "file_extension": ".py",
   "mimetype": "text/x-python",
   "name": "python",
   "nbconvert_exporter": "python",
   "pygments_lexer": "ipython3",
   "version": "3.12.7"
  }
 },
 "nbformat": 4,
 "nbformat_minor": 5
}
