{
 "cells": [
  {
   "cell_type": "code",
   "execution_count": 1,
   "id": "b8fb87a7-5175-48c6-b1e5-c4ef7450a15a",
   "metadata": {},
   "outputs": [],
   "source": [
    "class Car:\n",
    "    def __init__(self, windows, tyres, seating, enginetype):\n",
    "        self.windows=windows\n",
    "        self.tyres=tyres\n",
    "        self.seating=seating\n",
    "        self.engine=enginetype\n",
    "    def car_type(self):\n",
    "        print('The car is used for driving')"
   ]
  },
  {
   "cell_type": "code",
   "execution_count": 12,
   "id": "a53f1cc7-dacf-41c8-9348-ac4040ad4785",
   "metadata": {},
   "outputs": [],
   "source": [
    "class Audi(Car):\n",
    "    def __init__(self, windows, tyres, seating, enginetype, horsepower):\n",
    "        super().__init__(windows, tyres, seating, enginetype)\n",
    "        self.horsepower=horsepower\n",
    "    def self_driving(self):\n",
    "        print('This is a self driving car')\n",
    "\n",
    "audiq8=Audi(4,4,5,'Petrol',200)\n",
    "        "
   ]
  },
  {
   "cell_type": "code",
   "execution_count": 13,
   "id": "6cc97e95-a5ba-42b6-b058-a91784c293fd",
   "metadata": {},
   "outputs": [
    {
     "name": "stdout",
     "output_type": "stream",
     "text": [
      "200\n"
     ]
    }
   ],
   "source": [
    "print(audiq8.horsepower)"
   ]
  },
  {
   "cell_type": "code",
   "execution_count": 14,
   "id": "e3cec16c-e2be-44ef-a516-9b53c0a0daa3",
   "metadata": {},
   "outputs": [
    {
     "name": "stdout",
     "output_type": "stream",
     "text": [
      "The car is used for driving\n"
     ]
    }
   ],
   "source": [
    "audiq8.car_type()"
   ]
  },
  {
   "cell_type": "code",
   "execution_count": 15,
   "id": "aa177712-5ce5-405e-a071-a7f8002cdda1",
   "metadata": {},
   "outputs": [
    {
     "name": "stdout",
     "output_type": "stream",
     "text": [
      "This is a self driving car\n"
     ]
    }
   ],
   "source": [
    "audiq8.self_driving()"
   ]
  },
  {
   "cell_type": "code",
   "execution_count": 16,
   "id": "94bb395f-2e7c-4036-9e8b-7f7c912ae22d",
   "metadata": {},
   "outputs": [],
   "source": [
    "car1=Car(4,4,5,'Diesel')"
   ]
  },
  {
   "cell_type": "code",
   "execution_count": 17,
   "id": "49f1f4b5-b03c-4b3c-bb17-74a0f8e1b1a2",
   "metadata": {},
   "outputs": [
    {
     "name": "stdout",
     "output_type": "stream",
     "text": [
      "['__class__', '__delattr__', '__dict__', '__dir__', '__doc__', '__eq__', '__format__', '__ge__', '__getattribute__', '__getstate__', '__gt__', '__hash__', '__init__', '__init_subclass__', '__le__', '__lt__', '__module__', '__ne__', '__new__', '__reduce__', '__reduce_ex__', '__repr__', '__setattr__', '__sizeof__', '__str__', '__subclasshook__', '__weakref__', 'car_type', 'engine', 'seating', 'tyres', 'windows']\n"
     ]
    }
   ],
   "source": [
    "print(dir(car1))"
   ]
  },
  {
   "cell_type": "code",
   "execution_count": 18,
   "id": "6b50c19b-f42b-47f6-87d3-8ad691cf3eb6",
   "metadata": {},
   "outputs": [
    {
     "name": "stdout",
     "output_type": "stream",
     "text": [
      "['__class__', '__delattr__', '__dict__', '__dir__', '__doc__', '__eq__', '__format__', '__ge__', '__getattribute__', '__getstate__', '__gt__', '__hash__', '__init__', '__init_subclass__', '__le__', '__lt__', '__module__', '__ne__', '__new__', '__reduce__', '__reduce_ex__', '__repr__', '__setattr__', '__sizeof__', '__str__', '__subclasshook__', '__weakref__', 'car_type', 'engine', 'horsepower', 'seating', 'self_driving', 'tyres', 'windows']\n"
     ]
    }
   ],
   "source": [
    "print(dir(audiq8))"
   ]
  }
 ],
 "metadata": {
  "kernelspec": {
   "display_name": "Python 3 (ipykernel)",
   "language": "python",
   "name": "python3"
  },
  "language_info": {
   "codemirror_mode": {
    "name": "ipython",
    "version": 3
   },
   "file_extension": ".py",
   "mimetype": "text/x-python",
   "name": "python",
   "nbconvert_exporter": "python",
   "pygments_lexer": "ipython3",
   "version": "3.12.7"
  }
 },
 "nbformat": 4,
 "nbformat_minor": 5
}
