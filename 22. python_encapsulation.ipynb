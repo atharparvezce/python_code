{
 "cells": [
  {
   "cell_type": "markdown",
   "id": "122551e5-c6fa-4601-a491-6d2c6240387d",
   "metadata": {},
   "source": [
    "# Encapsulation\n",
    "\n",
    "Encapsulation is a fundamental principle in object-oriented programming that focuses on bundling data and the methods that operate on that data into a single unit called a class. It allows you to control the access and visibility of the data and methods, providing a way to protect and organize your code"
   ]
  },
  {
   "cell_type": "code",
   "execution_count": 41,
   "id": "d4aed2a7-0033-4a33-ae4f-276cf607c2c7",
   "metadata": {},
   "outputs": [],
   "source": [
    "# Access Modifier--->Encapsulation\n",
    "\n",
    "# private-> double underscores(__)\n",
    "\n",
    "\n",
    "class Person:\n",
    "    ## constructor\n",
    "    def __init__(self,name,age):\n",
    "        self.__name=name\n",
    "        self.__age=age\n",
    "\n",
    "    def display_info(self):\n",
    "        print(f\"the person name is {self.__name} and the age is {self.__age}\")\n"
   ]
  },
  {
   "cell_type": "code",
   "execution_count": 42,
   "id": "e4de2497-83f5-4e56-8104-b8e02620978c",
   "metadata": {},
   "outputs": [
    {
     "name": "stdout",
     "output_type": "stream",
     "text": [
      "the person name is Athar and the age is 26\n"
     ]
    }
   ],
   "source": [
    "person=Person(\"Athar\",26)\n",
    "\n",
    "person.display_info()"
   ]
  },
  {
   "cell_type": "code",
   "execution_count": 43,
   "id": "1166c4c2-d97d-4e07-9fc7-bcce489e227b",
   "metadata": {},
   "outputs": [],
   "source": [
    "# Protected -> single underscore(_)\n",
    "\n",
    "class Person:\n",
    "    ## constructor\n",
    "    def __init__(self,name,age):\n",
    "        self._name=name\n",
    "        self._age=age\n"
   ]
  },
  {
   "cell_type": "code",
   "execution_count": 44,
   "id": "181a99c8-30a5-466f-960b-69f04ad3ce04",
   "metadata": {},
   "outputs": [],
   "source": [
    "person=Person(\"Athar\",26)"
   ]
  },
  {
   "cell_type": "code",
   "execution_count": 45,
   "id": "f9e6967d-89eb-4eb5-9af9-de1ba7ef4cf7",
   "metadata": {},
   "outputs": [
    {
     "data": {
      "text/plain": [
       "['__class__',\n",
       " '__delattr__',\n",
       " '__dict__',\n",
       " '__dir__',\n",
       " '__doc__',\n",
       " '__eq__',\n",
       " '__format__',\n",
       " '__ge__',\n",
       " '__getattribute__',\n",
       " '__getstate__',\n",
       " '__gt__',\n",
       " '__hash__',\n",
       " '__init__',\n",
       " '__init_subclass__',\n",
       " '__le__',\n",
       " '__lt__',\n",
       " '__module__',\n",
       " '__ne__',\n",
       " '__new__',\n",
       " '__reduce__',\n",
       " '__reduce_ex__',\n",
       " '__repr__',\n",
       " '__setattr__',\n",
       " '__sizeof__',\n",
       " '__str__',\n",
       " '__subclasshook__',\n",
       " '__weakref__',\n",
       " '_age',\n",
       " '_name']"
      ]
     },
     "execution_count": 45,
     "metadata": {},
     "output_type": "execute_result"
    }
   ],
   "source": [
    "dir(person)\n"
   ]
  },
  {
   "cell_type": "code",
   "execution_count": 46,
   "id": "8b82eff6-5e24-4f27-9cf5-6fd9b98013d4",
   "metadata": {},
   "outputs": [
    {
     "data": {
      "text/plain": [
       "26"
      ]
     },
     "execution_count": 46,
     "metadata": {},
     "output_type": "execute_result"
    }
   ],
   "source": [
    "person._age"
   ]
  },
  {
   "cell_type": "code",
   "execution_count": 47,
   "id": "76bf58f8-c5b7-426e-acf4-fe70b0439cb4",
   "metadata": {},
   "outputs": [],
   "source": [
    "class Student(Person):\n",
    "    def __init__(self,name,age):\n",
    "        super().__init__(name,age)\n",
    "\n",
    "    def display_info(self):\n",
    "        print(f\"the person name is {self._name} and the age is {self._age}\")"
   ]
  },
  {
   "cell_type": "code",
   "execution_count": 48,
   "id": "51d2e840-7633-47fb-b789-418fe74e79d1",
   "metadata": {},
   "outputs": [],
   "source": [
    "student1=Student(\"Athar\",26)"
   ]
  },
  {
   "cell_type": "code",
   "execution_count": 49,
   "id": "19ec85b0-62ec-4d68-8693-fd84ef461a91",
   "metadata": {},
   "outputs": [
    {
     "name": "stdout",
     "output_type": "stream",
     "text": [
      "the person name is Athar and the age is 26\n"
     ]
    }
   ],
   "source": [
    "student1.display_info()"
   ]
  },
  {
   "cell_type": "code",
   "execution_count": 50,
   "id": "2d66d63c-e43c-4126-aa1b-98d2c185a49b",
   "metadata": {},
   "outputs": [],
   "source": [
    "# public-> only variable name(no underscore)\n",
    "\n",
    "class Person:\n",
    "    ## constructor\n",
    "    def __init__(self,name,age):\n",
    "        self.name=name\n",
    "        self.age=age\n",
    "    def information(self):\n",
    "        print(f\"The person name is {self.name} and the age is {self.age}\")"
   ]
  },
  {
   "cell_type": "code",
   "execution_count": 51,
   "id": "f92823fc-bd0b-4623-bc5b-1ce66bc94c2f",
   "metadata": {},
   "outputs": [],
   "source": [
    "person=Person('Athar', 26)"
   ]
  },
  {
   "cell_type": "code",
   "execution_count": 52,
   "id": "6ac0068b-7926-4f54-b8d4-cec98a1b9533",
   "metadata": {},
   "outputs": [
    {
     "name": "stdout",
     "output_type": "stream",
     "text": [
      "The person name is Athar and the age is 26\n"
     ]
    }
   ],
   "source": [
    "person.information()"
   ]
  }
 ],
 "metadata": {
  "kernelspec": {
   "display_name": "Python 3 (ipykernel)",
   "language": "python",
   "name": "python3"
  },
  "language_info": {
   "codemirror_mode": {
    "name": "ipython",
    "version": 3
   },
   "file_extension": ".py",
   "mimetype": "text/x-python",
   "name": "python",
   "nbconvert_exporter": "python",
   "pygments_lexer": "ipython3",
   "version": "3.12.7"
  }
 },
 "nbformat": 4,
 "nbformat_minor": 5
}
