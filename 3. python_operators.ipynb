{
 "cells": [
  {
   "cell_type": "markdown",
   "id": "2eb5e44e-10f3-4968-a6d0-5fb54802b694",
   "metadata": {},
   "source": [
    "# Python Operators"
   ]
  },
  {
   "cell_type": "code",
   "execution_count": 19,
   "id": "b828c68e-fa8a-4b67-a292-073d7302178c",
   "metadata": {},
   "outputs": [
    {
     "data": {
      "text/plain": [
       "False"
      ]
     },
     "execution_count": 19,
     "metadata": {},
     "output_type": "execute_result"
    }
   ],
   "source": [
    "# equality operators\n",
    "\n",
    "a=\"Athar\"\n",
    "b=\"Athar1\"\n",
    "\n",
    "a==b"
   ]
  },
  {
   "cell_type": "code",
   "execution_count": 5,
   "id": "76c3a0e7-2d33-4dd7-ab10-187bbd443546",
   "metadata": {},
   "outputs": [
    {
     "name": "stdout",
     "output_type": "stream",
     "text": [
      "4420351632\n",
      "4420351632\n"
     ]
    }
   ],
   "source": [
    "a=\"Athar\"\n",
    "b=\"Athar\"\n",
    "print(id(a))\n",
    "print(id(b))"
   ]
  },
  {
   "cell_type": "code",
   "execution_count": 25,
   "id": "3ef8253b-d1eb-4f22-8c70-c9562a519cf4",
   "metadata": {},
   "outputs": [
    {
     "data": {
      "text/plain": [
       "False"
      ]
     },
     "execution_count": 25,
     "metadata": {},
     "output_type": "execute_result"
    }
   ],
   "source": [
    "# equality operators2\n",
    "\n",
    "a is b"
   ]
  },
  {
   "cell_type": "code",
   "execution_count": 26,
   "id": "66a8234b-95f7-4f57-8e33-dc9131366f16",
   "metadata": {},
   "outputs": [
    {
     "data": {
      "text/plain": [
       "True"
      ]
     },
     "execution_count": 26,
     "metadata": {},
     "output_type": "execute_result"
    }
   ],
   "source": [
    "# equality operators3\n",
    "\n",
    "a is not b"
   ]
  },
  {
   "cell_type": "code",
   "execution_count": 27,
   "id": "9d7d8179-b355-44b9-a1a8-d2164e9aa27d",
   "metadata": {},
   "outputs": [
    {
     "name": "stdout",
     "output_type": "stream",
     "text": [
      "4420408960\n",
      "4420547072\n"
     ]
    }
   ],
   "source": [
    "lst=[1,2,3]\n",
    "lst1=[1,2,3]\n",
    "print(id(lst))\n",
    "print(id(lst1))"
   ]
  },
  {
   "cell_type": "code",
   "execution_count": 28,
   "id": "0c6bee9e-76cc-42eb-8a49-859dfb8e95a2",
   "metadata": {},
   "outputs": [
    {
     "data": {
      "text/plain": [
       "False"
      ]
     },
     "execution_count": 28,
     "metadata": {},
     "output_type": "execute_result"
    }
   ],
   "source": [
    "lst is lst1"
   ]
  },
  {
   "cell_type": "code",
   "execution_count": 29,
   "id": "21921a89-b5ac-498d-ae3b-e27608d62ab7",
   "metadata": {},
   "outputs": [
    {
     "data": {
      "text/plain": [
       "True"
      ]
     },
     "execution_count": 29,
     "metadata": {},
     "output_type": "execute_result"
    }
   ],
   "source": [
    "lst is not lst1"
   ]
  },
  {
   "cell_type": "code",
   "execution_count": 30,
   "id": "c2e86b45-cd2d-42ac-91e8-94a31ba40698",
   "metadata": {},
   "outputs": [
    {
     "data": {
      "text/plain": [
       "12.0"
      ]
     },
     "execution_count": 30,
     "metadata": {},
     "output_type": "execute_result"
    }
   ],
   "source": [
    "# true division\n",
    "\n",
    "48/4"
   ]
  },
  {
   "cell_type": "code",
   "execution_count": 31,
   "id": "f33ed56e-6cd4-4648-bec5-877a8436de0b",
   "metadata": {},
   "outputs": [
    {
     "data": {
      "text/plain": [
       "9"
      ]
     },
     "execution_count": 31,
     "metadata": {},
     "output_type": "execute_result"
    }
   ],
   "source": [
    "# integer division\n",
    "\n",
    "48//5"
   ]
  },
  {
   "cell_type": "code",
   "execution_count": 32,
   "id": "8411e935-36f8-4edc-a187-a32c00e91a3b",
   "metadata": {},
   "outputs": [
    {
     "data": {
      "text/plain": [
       "3"
      ]
     },
     "execution_count": 32,
     "metadata": {},
     "output_type": "execute_result"
    }
   ],
   "source": [
    "# modulo operator\n",
    "\n",
    "48%5"
   ]
  }
 ],
 "metadata": {
  "kernelspec": {
   "display_name": "Python 3 (ipykernel)",
   "language": "python",
   "name": "python3"
  },
  "language_info": {
   "codemirror_mode": {
    "name": "ipython",
    "version": 3
   },
   "file_extension": ".py",
   "mimetype": "text/x-python",
   "name": "python",
   "nbconvert_exporter": "python",
   "pygments_lexer": "ipython3",
   "version": "3.12.7"
  }
 },
 "nbformat": 4,
 "nbformat_minor": 5
}
