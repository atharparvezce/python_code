{
 "cells": [
  {
   "cell_type": "markdown",
   "id": "2e1d81a8-8b77-4df8-ac76-9735d95bffcd",
   "metadata": {},
   "source": [
    "# Python Number Methods"
   ]
  },
  {
   "cell_type": "code",
   "execution_count": 35,
   "id": "5a204578-ca15-4691-a0b6-319c566c6ec7",
   "metadata": {},
   "outputs": [
    {
     "data": {
      "text/plain": [
       "23.34"
      ]
     },
     "execution_count": 35,
     "metadata": {},
     "output_type": "execute_result"
    }
   ],
   "source": [
    "# abs(x)\n",
    "\n",
    "abs(23.340)\n"
   ]
  },
  {
   "cell_type": "code",
   "execution_count": 36,
   "id": "dacb8c48-5a05-4be9-88d5-a9c3ff0132f9",
   "metadata": {},
   "outputs": [
    {
     "data": {
      "text/plain": [
       "2"
      ]
     },
     "execution_count": 36,
     "metadata": {},
     "output_type": "execute_result"
    }
   ],
   "source": [
    "# min()\n",
    "\n",
    "min(2,100,4,5,6,3)"
   ]
  },
  {
   "cell_type": "code",
   "execution_count": 37,
   "id": "8184b22e-96bc-4bb3-af99-102ae46437c9",
   "metadata": {},
   "outputs": [
    {
     "data": {
      "text/plain": [
       "-33"
      ]
     },
     "execution_count": 37,
     "metadata": {},
     "output_type": "execute_result"
    }
   ],
   "source": [
    "# max()\n",
    "\n",
    "max(-55,-44,-33)"
   ]
  },
  {
   "cell_type": "code",
   "execution_count": 38,
   "id": "21df89b4-7721-408c-9f42-906fa69b08a9",
   "metadata": {},
   "outputs": [
    {
     "data": {
      "text/plain": [
       "-23"
      ]
     },
     "execution_count": 38,
     "metadata": {},
     "output_type": "execute_result"
    }
   ],
   "source": [
    "# ceil (x)\n",
    "\n",
    "import math\n",
    "math.ceil(-23.43)"
   ]
  },
  {
   "cell_type": "code",
   "execution_count": 39,
   "id": "b07cf4b7-771b-4ce0-ac5b-d0d6ebb01cbd",
   "metadata": {},
   "outputs": [
    {
     "data": {
      "text/plain": [
       "-35"
      ]
     },
     "execution_count": 39,
     "metadata": {},
     "output_type": "execute_result"
    }
   ],
   "source": [
    "# floor(x)\n",
    "\n",
    "math.floor(-34.32)\n"
   ]
  },
  {
   "cell_type": "code",
   "execution_count": 40,
   "id": "9393ad7e-45f3-46fe-83d1-c39b02baf6d5",
   "metadata": {},
   "outputs": [
    {
     "data": {
      "text/plain": [
       "162754.79141900392"
      ]
     },
     "execution_count": 40,
     "metadata": {},
     "output_type": "execute_result"
    }
   ],
   "source": [
    "# exp(x) (It will return the exponential value of a number x which we pass in argument)\n",
    "\n",
    "math.exp(12)"
   ]
  },
  {
   "cell_type": "code",
   "execution_count": 41,
   "id": "6d0b6f5b-ef1e-4e81-96c7-05f4806bcd94",
   "metadata": {},
   "outputs": [
    {
     "data": {
      "text/plain": [
       "10.53"
      ]
     },
     "execution_count": 41,
     "metadata": {},
     "output_type": "execute_result"
    }
   ],
   "source": [
    "# fabs(x) (it will give you float abolute value)\n",
    "\n",
    "math.fabs(10.53)"
   ]
  },
  {
   "cell_type": "code",
   "execution_count": 42,
   "id": "40dc5a40-175e-41da-871b-0c443dc26a2a",
   "metadata": {},
   "outputs": [
    {
     "data": {
      "text/plain": [
       "4.182050142641207"
      ]
     },
     "execution_count": 42,
     "metadata": {},
     "output_type": "execute_result"
    }
   ],
   "source": [
    "# log base 2\n",
    "\n",
    "math.log(65.5)\n"
   ]
  },
  {
   "cell_type": "code",
   "execution_count": 43,
   "id": "0827e15d-b9e7-44d1-a93a-b604eb70fd50",
   "metadata": {},
   "outputs": [
    {
     "data": {
      "text/plain": [
       "1.0"
      ]
     },
     "execution_count": 43,
     "metadata": {},
     "output_type": "execute_result"
    }
   ],
   "source": [
    "#log base 10 \n",
    "\n",
    "math.log10(10)"
   ]
  },
  {
   "cell_type": "code",
   "execution_count": 44,
   "id": "26e65f0f-4866-4571-a913-342b94ad0e52",
   "metadata": {},
   "outputs": [
    {
     "data": {
      "text/plain": [
       "3200000.0"
      ]
     },
     "execution_count": 44,
     "metadata": {},
     "output_type": "execute_result"
    }
   ],
   "source": [
    "# pow()\n",
    "\n",
    "math.pow(20,5)"
   ]
  },
  {
   "cell_type": "code",
   "execution_count": 45,
   "id": "b6ae2af2-89b3-40ca-8e07-10b00e158fc9",
   "metadata": {},
   "outputs": [
    {
     "data": {
      "text/plain": [
       "4.0"
      ]
     },
     "execution_count": 45,
     "metadata": {},
     "output_type": "execute_result"
    }
   ],
   "source": [
    "# sqrt()\n",
    "\n",
    "math.sqrt(16)"
   ]
  },
  {
   "cell_type": "code",
   "execution_count": 46,
   "id": "5393c273-e1ca-424f-9df8-285374a34ada",
   "metadata": {},
   "outputs": [
    {
     "data": {
      "text/plain": [
       "0.0"
      ]
     },
     "execution_count": 46,
     "metadata": {},
     "output_type": "execute_result"
    }
   ],
   "source": [
    "# Trigonometric functions\n",
    "\n",
    "math.sin(0)"
   ]
  },
  {
   "cell_type": "code",
   "execution_count": 47,
   "id": "c1048cf6-1b09-4386-874e-4ef70fa316b0",
   "metadata": {},
   "outputs": [
    {
     "data": {
      "text/plain": [
       "1.0"
      ]
     },
     "execution_count": 47,
     "metadata": {},
     "output_type": "execute_result"
    }
   ],
   "source": [
    "math.cos(0)"
   ]
  },
  {
   "cell_type": "code",
   "execution_count": 48,
   "id": "1fc2999a-e12c-4852-ac3a-4de02b9ca17a",
   "metadata": {},
   "outputs": [
    {
     "data": {
      "text/plain": [
       "1.6197751905438615"
      ]
     },
     "execution_count": 48,
     "metadata": {},
     "output_type": "execute_result"
    }
   ],
   "source": [
    "math.tan(45)"
   ]
  },
  {
   "cell_type": "code",
   "execution_count": 51,
   "id": "94590b5c-3c50-425e-a208-517dddd1fbeb",
   "metadata": {},
   "outputs": [
    {
     "data": {
      "text/plain": [
       "5.0"
      ]
     },
     "execution_count": 51,
     "metadata": {},
     "output_type": "execute_result"
    }
   ],
   "source": [
    "# hypot() (hypotenuse)\n",
    "\n",
    "math.hypot(4,3)"
   ]
  },
  {
   "cell_type": "code",
   "execution_count": 57,
   "id": "2ac0cc20-e0ca-465c-8b77-d04fb4726634",
   "metadata": {},
   "outputs": [
    {
     "name": "stdout",
     "output_type": "stream",
     "text": [
      "math.modf(100.12) :  (0.12000000000000455, 100.0)\n"
     ]
    }
   ],
   "source": [
    "# modf() \n",
    "\n",
    "'''\n",
    "modf() function is an inbuilt function in Python that returns the fractional and integer parts of the number in a two-item tuple.\n",
    "Both parts have the same sign as the number. The integer part is returned as a float. '''\n",
    "\n",
    "\n",
    "# modf() function used with a positive number\n",
    "print(\"math.modf(100.12) : \", math.modf(100.12))\n"
   ]
  },
  {
   "cell_type": "code",
   "execution_count": 58,
   "id": "15cdaa60-31e5-4128-ad9b-583e5c94a7cf",
   "metadata": {},
   "outputs": [
    {
     "name": "stdout",
     "output_type": "stream",
     "text": [
      "math.modf(-100.72) :  (-0.7199999999999989, -100.0)\n"
     ]
    }
   ],
   "source": [
    "# modf() function used with a negative number\n",
    "print(\"math.modf(-100.72) : \", math.modf(-100.72))"
   ]
  },
  {
   "cell_type": "code",
   "execution_count": 59,
   "id": "63116dc7-d0b4-4a9c-8e92-548104b0f97f",
   "metadata": {},
   "outputs": [
    {
     "name": "stdout",
     "output_type": "stream",
     "text": [
      "math.modf(2) :  (0.0, 2.0)\n"
     ]
    }
   ],
   "source": [
    "print(\"math.modf(2) : \", math.modf(2))"
   ]
  }
 ],
 "metadata": {
  "kernelspec": {
   "display_name": "Python 3 (ipykernel)",
   "language": "python",
   "name": "python3"
  },
  "language_info": {
   "codemirror_mode": {
    "name": "ipython",
    "version": 3
   },
   "file_extension": ".py",
   "mimetype": "text/x-python",
   "name": "python",
   "nbconvert_exporter": "python",
   "pygments_lexer": "ipython3",
   "version": "3.12.7"
  }
 },
 "nbformat": 4,
 "nbformat_minor": 5
}
