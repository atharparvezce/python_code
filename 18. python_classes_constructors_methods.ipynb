{
 "cells": [
  {
   "cell_type": "markdown",
   "id": "e4f2459f-ef25-4b45-8484-e4f9f712927b",
   "metadata": {},
   "source": [
    "# Class\n",
    "\n",
    "1. Classes : real world entity or object.\n",
    "2. Attributes : properties of the class.\n",
    "3. Methods : actions of the class.\n"
   ]
  },
  {
   "cell_type": "code",
   "execution_count": 42,
   "id": "27c73030-caa1-4fc1-8ea6-2cd0494b213d",
   "metadata": {},
   "outputs": [],
   "source": [
    "class Car:\n",
    "    pass"
   ]
  },
  {
   "cell_type": "code",
   "execution_count": 43,
   "id": "f5e9cf06-82df-42f6-ad08-0092434eecc7",
   "metadata": {},
   "outputs": [
    {
     "name": "stdout",
     "output_type": "stream",
     "text": [
      "<__main__.Car object at 0x10624d130>\n"
     ]
    }
   ],
   "source": [
    "car1=Car();\n",
    "car2=Car();\n",
    "\n",
    "print(car1)"
   ]
  },
  {
   "cell_type": "code",
   "execution_count": 44,
   "id": "aa09f26c-5ca9-4c05-b39b-7c1242c800a2",
   "metadata": {},
   "outputs": [
    {
     "name": "stdout",
     "output_type": "stream",
     "text": [
      "['__class__', '__delattr__', '__dict__', '__dir__', '__doc__', '__eq__', '__format__', '__ge__', '__getattribute__', '__getstate__', '__gt__', '__hash__', '__init__', '__init_subclass__', '__le__', '__lt__', '__module__', '__ne__', '__new__', '__reduce__', '__reduce_ex__', '__repr__', '__setattr__', '__sizeof__', '__str__', '__subclasshook__', '__weakref__']\n"
     ]
    }
   ],
   "source": [
    "print(dir(car1))"
   ]
  },
  {
   "cell_type": "code",
   "execution_count": 45,
   "id": "755fc8fd-2b7d-4f74-82ba-d7f4fa5f6a4b",
   "metadata": {},
   "outputs": [
    {
     "name": "stdout",
     "output_type": "stream",
     "text": [
      "['__class__', '__delattr__', '__dict__', '__dir__', '__doc__', '__eq__', '__format__', '__ge__', '__getattribute__', '__getstate__', '__gt__', '__hash__', '__init__', '__init_subclass__', '__le__', '__lt__', '__module__', '__ne__', '__new__', '__reduce__', '__reduce_ex__', '__repr__', '__setattr__', '__sizeof__', '__str__', '__subclasshook__', '__weakref__']\n"
     ]
    }
   ],
   "source": [
    "print(dir(car2))"
   ]
  },
  {
   "cell_type": "code",
   "execution_count": 46,
   "id": "f23f0cb6-4ba4-4675-8f6d-191a36ce4dc9",
   "metadata": {},
   "outputs": [
    {
     "name": "stdout",
     "output_type": "stream",
     "text": [
      "4\n",
      "Diesel\n"
     ]
    }
   ],
   "source": [
    "car1.windows=4\n",
    "car1.tyres=4\n",
    "car1.engine='Diesel'\n",
    "\n",
    "car2.windows=4\n",
    "car2.tyres=4\n",
    "car2.engine='Diesel'\n",
    "\n",
    "\n",
    "print(car1.tyres)\n",
    "\n",
    "print(car2.engine)"
   ]
  },
  {
   "cell_type": "code",
   "execution_count": 47,
   "id": "ba075c4d-2f95-4ec3-a91b-b2480b9f2868",
   "metadata": {},
   "outputs": [
    {
     "name": "stdout",
     "output_type": "stream",
     "text": [
      "['__class__', '__delattr__', '__dict__', '__dir__', '__doc__', '__eq__', '__format__', '__ge__', '__getattribute__', '__getstate__', '__gt__', '__hash__', '__init__', '__init_subclass__', '__le__', '__lt__', '__module__', '__ne__', '__new__', '__reduce__', '__reduce_ex__', '__repr__', '__setattr__', '__sizeof__', '__str__', '__subclasshook__', '__weakref__', 'engine', 'tyres', 'windows']\n"
     ]
    }
   ],
   "source": [
    "print(dir(car1))"
   ]
  },
  {
   "cell_type": "code",
   "execution_count": 48,
   "id": "aead1c03-5cb5-478d-96b9-b93b2355b063",
   "metadata": {},
   "outputs": [
    {
     "name": "stdout",
     "output_type": "stream",
     "text": [
      "['__class__', '__delattr__', '__dict__', '__dir__', '__doc__', '__eq__', '__format__', '__ge__', '__getattribute__', '__getstate__', '__gt__', '__hash__', '__init__', '__init_subclass__', '__le__', '__lt__', '__module__', '__ne__', '__new__', '__reduce__', '__reduce_ex__', '__repr__', '__setattr__', '__sizeof__', '__str__', '__subclasshook__', '__weakref__', 'engine', 'tyres', 'windows']\n"
     ]
    }
   ],
   "source": [
    "print(dir(car2))"
   ]
  },
  {
   "cell_type": "code",
   "execution_count": 71,
   "id": "a10d10c8-6e73-4925-9428-8d08c32d7fd7",
   "metadata": {},
   "outputs": [],
   "source": [
    "# constructor\n",
    "\n",
    "class Car1:\n",
    "    def __init__(self, windows, tyres, seating, engine):\n",
    "        self.windows=windows\n",
    "        self.tyres=tyres\n",
    "        self.seating=seating\n",
    "        self.engine=engine\n",
    "    def car_type(self):\n",
    "        print('The car type is {} '.format(self.engine))"
   ]
  },
  {
   "cell_type": "code",
   "execution_count": 72,
   "id": "f0073d87-87d0-44f9-bbd6-28f44a11344a",
   "metadata": {},
   "outputs": [
    {
     "name": "stdout",
     "output_type": "stream",
     "text": [
      "['__class__', '__delattr__', '__dict__', '__dir__', '__doc__', '__eq__', '__format__', '__ge__', '__getattribute__', '__getstate__', '__gt__', '__hash__', '__init__', '__init_subclass__', '__le__', '__lt__', '__module__', '__ne__', '__new__', '__reduce__', '__reduce_ex__', '__repr__', '__setattr__', '__sizeof__', '__str__', '__subclasshook__', '__weakref__', 'car_type']\n"
     ]
    }
   ],
   "source": [
    "print(dir(Car1))"
   ]
  },
  {
   "cell_type": "code",
   "execution_count": 73,
   "id": "dfac02eb-a767-4105-b1fb-820f32d08015",
   "metadata": {},
   "outputs": [
    {
     "name": "stdout",
     "output_type": "stream",
     "text": [
      "4\n",
      "5\n"
     ]
    }
   ],
   "source": [
    "car3=Car1(4,4,5,'Petrol')\n",
    "print(car3.windows)\n",
    "print(car3.seating)"
   ]
  },
  {
   "cell_type": "code",
   "execution_count": 74,
   "id": "525e2510-309b-4264-93b1-ab3599ebd58d",
   "metadata": {},
   "outputs": [
    {
     "name": "stdout",
     "output_type": "stream",
     "text": [
      "The car type is Petrol \n"
     ]
    }
   ],
   "source": [
    "car3.car_type()"
   ]
  },
  {
   "cell_type": "code",
   "execution_count": 85,
   "id": "57d017b9-a719-4dec-94f8-386a28732e73",
   "metadata": {},
   "outputs": [],
   "source": [
    "class Car2:\n",
    "    def __init__(self, windows, tyres, seating, engine):\n",
    "        self.windows=windows\n",
    "        self.tyres=tyres\n",
    "        self.seating=seating\n",
    "        self.engine=engine\n",
    "    def car_type(self, engine):\n",
    "        print('The car type is {} '.format(engine))"
   ]
  },
  {
   "cell_type": "code",
   "execution_count": 86,
   "id": "d2b6c116-4287-4f19-b335-e3f18a43203f",
   "metadata": {},
   "outputs": [],
   "source": [
    "car4=Car2(4,4,5,'Diesel')"
   ]
  },
  {
   "cell_type": "code",
   "execution_count": 87,
   "id": "e2cf9f57-e8d4-4301-b71a-8334ceb9b96c",
   "metadata": {},
   "outputs": [
    {
     "name": "stdout",
     "output_type": "stream",
     "text": [
      "The car type is Electric \n"
     ]
    }
   ],
   "source": [
    "car4.car_type('Electric')"
   ]
  }
 ],
 "metadata": {
  "kernelspec": {
   "display_name": "Python 3 (ipykernel)",
   "language": "python",
   "name": "python3"
  },
  "language_info": {
   "codemirror_mode": {
    "name": "ipython",
    "version": 3
   },
   "file_extension": ".py",
   "mimetype": "text/x-python",
   "name": "python",
   "nbconvert_exporter": "python",
   "pygments_lexer": "ipython3",
   "version": "3.12.7"
  }
 },
 "nbformat": 4,
 "nbformat_minor": 5
}
