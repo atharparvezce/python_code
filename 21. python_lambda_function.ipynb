{
 "cells": [
  {
   "cell_type": "markdown",
   "id": "e93c00cb-a845-4d6f-bf15-1a0a9bd9b0e1",
   "metadata": {},
   "source": [
    "# Lambda Function\n",
    "\n",
    "In Python, a lambda function (also called an anonymous function) is a small, anonymous function that can be defined in a single line of code without a name. It is useful when we need a simple function that we don't want to define explicitly using the def keyword. The basic syntax for a lambda function in Python is:\n",
    "\n",
    "lambda arguments: expression\n",
    "\n",
    "Here, arguments refer to the input arguments for the function and expression is a single expression that gets evaluated and returned as the result of the function. The result of the expression is automatically returned by the lambda function, so there's no need to use the return statement."
   ]
  },
  {
   "cell_type": "code",
   "execution_count": 1,
   "id": "2ae43e0e-5cca-488f-99a0-600b3423225b",
   "metadata": {},
   "outputs": [
    {
     "data": {
      "text/plain": [
       "<function __main__.<lambda>(x, y)>"
      ]
     },
     "execution_count": 1,
     "metadata": {},
     "output_type": "execute_result"
    }
   ],
   "source": [
    "f=lambda x,y:x+y\n",
    "f"
   ]
  },
  {
   "cell_type": "code",
   "execution_count": 2,
   "id": "45460a59-8617-49be-9fbf-ee7120c8e20b",
   "metadata": {},
   "outputs": [
    {
     "data": {
      "text/plain": [
       "11"
      ]
     },
     "execution_count": 2,
     "metadata": {},
     "output_type": "execute_result"
    }
   ],
   "source": [
    "f(5,6)"
   ]
  },
  {
   "cell_type": "code",
   "execution_count": 3,
   "id": "9a72b228-bb69-4f80-845f-390e916bd8f8",
   "metadata": {},
   "outputs": [
    {
     "data": {
      "text/plain": [
       "12"
      ]
     },
     "execution_count": 3,
     "metadata": {},
     "output_type": "execute_result"
    }
   ],
   "source": [
    "# simnple examples\n",
    "\n",
    "multiply=lambda x,y:x*y\n",
    "multiply(3,4)"
   ]
  },
  {
   "cell_type": "code",
   "execution_count": 4,
   "id": "829482dc-2d6f-4508-a237-704c67eced11",
   "metadata": {},
   "outputs": [
    {
     "data": {
      "text/plain": [
       "12"
      ]
     },
     "execution_count": 4,
     "metadata": {},
     "output_type": "execute_result"
    }
   ],
   "source": [
    "# Return the length of a string\n",
    "\n",
    "string_length=lambda s:len(s)\n",
    "string_length(\"Athar Parvez\")"
   ]
  },
  {
   "cell_type": "code",
   "execution_count": 5,
   "id": "34c157dc-27c2-4dcf-bca9-cca94fd6f316",
   "metadata": {},
   "outputs": [
    {
     "name": "stdout",
     "output_type": "stream",
     "text": [
      "[1, 4, 9, 16, 25, 36]\n"
     ]
    }
   ],
   "source": [
    "# Convert a list of integers to their corresponding square values:\n",
    "\n",
    "numbers=[1,2,3,4,5,6]\n",
    "squares=list(map(lambda x:x**2,numbers))\n",
    "print(squares)"
   ]
  },
  {
   "cell_type": "code",
   "execution_count": 6,
   "id": "a648e55c-c31e-4801-9d2b-acea6d624776",
   "metadata": {},
   "outputs": [
    {
     "data": {
      "text/plain": [
       "[2, 4, 6]"
      ]
     },
     "execution_count": 6,
     "metadata": {},
     "output_type": "execute_result"
    }
   ],
   "source": [
    "# Filter out even numbers from a list:\n",
    "\n",
    "numbers=[1,2,3,4,5,6]\n",
    "list(filter(lambda x:x%2==0,numbers))"
   ]
  },
  {
   "cell_type": "code",
   "execution_count": 9,
   "id": "879dda03-5506-40da-a6c3-04215be4c2b7",
   "metadata": {},
   "outputs": [
    {
     "data": {
      "text/plain": [
       "False"
      ]
     },
     "execution_count": 9,
     "metadata": {},
     "output_type": "execute_result"
    }
   ],
   "source": [
    "f=lambda x:x%2==0\n",
    "f(3)"
   ]
  },
  {
   "cell_type": "code",
   "execution_count": 10,
   "id": "64441d44-1275-4f6b-958b-e92290c62845",
   "metadata": {},
   "outputs": [
    {
     "data": {
      "text/plain": [
       "['date', 'apple', 'banana', 'cherry', 'elderberry']"
      ]
     },
     "execution_count": 10,
     "metadata": {},
     "output_type": "execute_result"
    }
   ],
   "source": [
    "# Sort a list of strings based on their alphabetical characters and  length:\n",
    "\n",
    "fruits = ['apple', 'banana', 'cherry', 'date', 'elderberry']\n",
    "sorted(fruits,key=lambda x:len(x))"
   ]
  },
  {
   "cell_type": "code",
   "execution_count": null,
   "id": "555475e8-3423-438d-8d2a-e4306db7695c",
   "metadata": {},
   "outputs": [],
   "source": [
    "#  complex examples\n",
    "# Sorting a list of dictionaries based on a specific key\n"
   ]
  },
  {
   "cell_type": "code",
   "execution_count": 11,
   "id": "065fe785-9fb5-4fc8-b330-f4fc4b3a0ec2",
   "metadata": {},
   "outputs": [],
   "source": [
    "people = [\n",
    "    {'name': 'Alice', 'age': 25, 'occupation': 'Engineer'},\n",
    "    {'name': 'Bob', 'age': 30, 'occupation': 'Manager'},\n",
    "    {'name': 'Charlie', 'age': 22, 'occupation': 'Intern'},\n",
    "    {'name': 'Dave', 'age': 27, 'occupation': 'Designer'},\n",
    "]"
   ]
  },
  {
   "cell_type": "code",
   "execution_count": 14,
   "id": "22509566-a237-44f7-82e8-99ba0eb806c6",
   "metadata": {},
   "outputs": [
    {
     "data": {
      "text/plain": [
       "list"
      ]
     },
     "execution_count": 14,
     "metadata": {},
     "output_type": "execute_result"
    }
   ],
   "source": [
    "type(people)"
   ]
  },
  {
   "cell_type": "code",
   "execution_count": 12,
   "id": "ba7009db-74fc-45ff-ac9f-7a5ba53b3f1b",
   "metadata": {},
   "outputs": [
    {
     "data": {
      "text/plain": [
       "[{'name': 'Charlie', 'age': 22, 'occupation': 'Intern'},\n",
       " {'name': 'Alice', 'age': 25, 'occupation': 'Engineer'},\n",
       " {'name': 'Dave', 'age': 27, 'occupation': 'Designer'},\n",
       " {'name': 'Bob', 'age': 30, 'occupation': 'Manager'}]"
      ]
     },
     "execution_count": 12,
     "metadata": {},
     "output_type": "execute_result"
    }
   ],
   "source": [
    "sorted(people,key=lambda x:(x['age']))"
   ]
  },
  {
   "cell_type": "code",
   "execution_count": 17,
   "id": "56c05a51-0ac9-4876-b620-a155850ddebd",
   "metadata": {},
   "outputs": [
    {
     "data": {
      "text/plain": [
       "'b'"
      ]
     },
     "execution_count": 17,
     "metadata": {},
     "output_type": "execute_result"
    }
   ],
   "source": [
    "# Finding the maximum value in a dictionary\n",
    "\n",
    "data = {'a': 10, 'b': 20, 'c': 5, 'd': 15}\n",
    "max(data,key=lambda x:data[x])"
   ]
  },
  {
   "cell_type": "code",
   "execution_count": 20,
   "id": "929a7ef4-03ff-410c-a678-e291421775fa",
   "metadata": {},
   "outputs": [
    {
     "name": "stdout",
     "output_type": "stream",
     "text": [
      "a ['apple']\n",
      "c ['cherry']\n",
      "d ['date']\n",
      "e ['elderberry']\n",
      "f ['fig']\n",
      "p ['papaya', 'pomegranate']\n"
     ]
    }
   ],
   "source": [
    "# Grouping a list of strings based on their first letter\n",
    "\n",
    "from itertools import groupby\n",
    "\n",
    "words = ['apple', 'papaya', 'cherry', 'date', 'elderberry', 'fig', 'pomegranate']\n",
    "\n",
    "groups = groupby(sorted(words), key=lambda x: x[0])\n",
    "\n",
    "for key, group in groups:\n",
    "    print(key, list(group))"
   ]
  },
  {
   "cell_type": "code",
   "execution_count": 21,
   "id": "82315667-6d35-404f-ac79-689cc404c18f",
   "metadata": {},
   "outputs": [
    {
     "data": {
      "text/plain": [
       "itertools.groupby"
      ]
     },
     "execution_count": 21,
     "metadata": {},
     "output_type": "execute_result"
    }
   ],
   "source": [
    "type(groups)"
   ]
  }
 ],
 "metadata": {
  "kernelspec": {
   "display_name": "Python 3 (ipykernel)",
   "language": "python",
   "name": "python3"
  },
  "language_info": {
   "codemirror_mode": {
    "name": "ipython",
    "version": 3
   },
   "file_extension": ".py",
   "mimetype": "text/x-python",
   "name": "python",
   "nbconvert_exporter": "python",
   "pygments_lexer": "ipython3",
   "version": "3.12.7"
  }
 },
 "nbformat": 4,
 "nbformat_minor": 5
}
