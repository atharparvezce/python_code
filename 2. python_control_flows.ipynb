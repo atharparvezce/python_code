{
 "cells": [
  {
   "cell_type": "markdown",
   "id": "15396e42-df18-41cd-a3a0-3edc66228e54",
   "metadata": {},
   "source": [
    "# Control_Flows"
   ]
  },
  {
   "cell_type": "code",
   "execution_count": 11,
   "id": "b14dcaed-6ba8-4dd1-acc9-5ff13739fcc1",
   "metadata": {},
   "outputs": [
    {
     "name": "stdin",
     "output_type": "stream",
     "text": [
      "Please Enter a Number: 12\n"
     ]
    },
    {
     "name": "stdout",
     "output_type": "stream",
     "text": [
      "This is even number\n"
     ]
    }
   ],
   "source": [
    "# if statement\n",
    "a= int(input(\"Please Enter a Number:\"))\n",
    "a_float=float(a)\n",
    "if(a_float%2==0):\n",
    "    print(\"This is even number\")\n",
    "else:\n",
    "    print(\"This is odd number\")"
   ]
  },
  {
   "cell_type": "code",
   "execution_count": 34,
   "id": "4e5959db-472e-46b1-89ae-f773df932477",
   "metadata": {},
   "outputs": [
    {
     "name": "stdin",
     "output_type": "stream",
     "text": [
      "Please enter your age: 12\n"
     ]
    },
    {
     "name": "stdout",
     "output_type": "stream",
     "text": [
      "You are Miner\n",
      "You are in School\n"
     ]
    }
   ],
   "source": [
    "# nested if else conditions \n",
    "age= int(input(\"Please enter your age:\"))\n",
    "if(age<18):\n",
    "    print(\"You are Miner\")\n",
    "    if(age<15):\n",
    "        print(\"You are in School\")\n",
    "    else:\n",
    "        print(\"You are in College\")\n",
    "elif(age>=18 and age<=45):\n",
    "    print(\"Mid Age\")\n",
    "elif(age>45 and age<=50):\n",
    "    print(\"Senior Mid Age\")\n",
    "else:\n",
    "    print(\"Senior Citizen\")"
   ]
  },
  {
   "cell_type": "code",
   "execution_count": 35,
   "id": "770934c0-43fa-4ed0-bf3d-c9eaa49a24ef",
   "metadata": {},
   "outputs": [
    {
     "name": "stdout",
     "output_type": "stream",
     "text": [
      "1\n",
      "2\n",
      "3\n",
      "4\n",
      "5\n",
      "6\n"
     ]
    }
   ],
   "source": [
    "# for loop\n",
    "\n",
    "lst=[1,2,3,4,5,6]\n",
    "for i in lst:\n",
    "    print(i)"
   ]
  },
  {
   "cell_type": "code",
   "execution_count": 37,
   "id": "af2f36bd-4b24-4fdb-a782-93201afd5f55",
   "metadata": {},
   "outputs": [
    {
     "name": "stdout",
     "output_type": "stream",
     "text": [
      "21\n"
     ]
    }
   ],
   "source": [
    "# find the sum of all the elements in the list\n",
    "\n",
    "lst=[1,2,3,4,5,6]\n",
    "sum1 =0\n",
    "for i in lst:\n",
    "    sum1=sum1+i\n",
    "print(sum1)\n"
   ]
  },
  {
   "cell_type": "code",
   "execution_count": 42,
   "id": "852f14f8-75ef-4bc5-84bb-4e8b2e39c960",
   "metadata": {},
   "outputs": [
    {
     "name": "stdout",
     "output_type": "stream",
     "text": [
      "Sum of even numbers 12\n",
      "Sum of odd numbers 16\n"
     ]
    }
   ],
   "source": [
    "# find the sum of even and odd number\n",
    "\n",
    "lst=[1,2,3,4,5,6,7]\n",
    "sum_even =0\n",
    "sum_odd =0\n",
    "for i in lst:\n",
    "    if(i%2==0):\n",
    "        sum_even=sum_even+i\n",
    "    else:\n",
    "        sum_odd=sum_odd+i\n",
    "print(\"Sum of even numbers {}\".format(sum_even))\n",
    "print(\"Sum of odd numbers {}\".format(sum_odd))"
   ]
  },
  {
   "cell_type": "code",
   "execution_count": 1,
   "id": "64627889-9775-4554-bab5-bdd4a261d7eb",
   "metadata": {},
   "outputs": [
    {
     "name": "stdout",
     "output_type": "stream",
     "text": [
      "30 25\n"
     ]
    }
   ],
   "source": [
    "# while loop\n",
    "\n",
    "i=0\n",
    "even_sum=0\n",
    "odd_sum=0\n",
    "while(i<=10):\n",
    "    \n",
    "    if(i%2==0):\n",
    "        even_sum=even_sum+i\n",
    "    else:\n",
    "        odd_sum=odd_sum+i\n",
    "       \n",
    "   \n",
    "        \n",
    "    i=i+1\n",
    "print(even_sum,odd_sum)\n",
    "\n"
   ]
  },
  {
   "cell_type": "code",
   "execution_count": 15,
   "id": "9ce772b5-018d-446a-8f44-170cc7460a82",
   "metadata": {},
   "outputs": [
    {
     "name": "stdout",
     "output_type": "stream",
     "text": [
      "0\n",
      "1\n",
      "2\n",
      "3\n",
      "4\n"
     ]
    }
   ],
   "source": [
    "# break statement(it skip current loop)\n",
    "x=0\n",
    "while(x<10):\n",
    "    \n",
    "    print(x)\n",
    "    if(x==4):\n",
    "        break\n",
    "    x=x+1\n",
    "\n",
    "    "
   ]
  },
  {
   "cell_type": "code",
   "execution_count": 8,
   "id": "cda2373f-4d55-4ac3-84ea-69dc9a0965d0",
   "metadata": {},
   "outputs": [
    {
     "name": "stdout",
     "output_type": "stream",
     "text": [
      "1\n",
      "2\n",
      "3\n",
      "5\n",
      "6\n",
      "7\n",
      "8\n",
      "9\n",
      "10\n"
     ]
    }
   ],
   "source": [
    "# continue statement(it skip current iteration)\n",
    "\n",
    "x=0\n",
    "while(x<10):\n",
    "    x=x+1\n",
    "    if(x==4):\n",
    "        continue\n",
    "    print(x)\n",
    "    "
   ]
  },
  {
   "cell_type": "code",
   "execution_count": null,
   "id": "093dbabc-90b7-4186-a023-8f645e184c2c",
   "metadata": {},
   "outputs": [],
   "source": []
  }
 ],
 "metadata": {
  "kernelspec": {
   "display_name": "Python 3 (ipykernel)",
   "language": "python",
   "name": "python3"
  },
  "language_info": {
   "codemirror_mode": {
    "name": "ipython",
    "version": 3
   },
   "file_extension": ".py",
   "mimetype": "text/x-python",
   "name": "python",
   "nbconvert_exporter": "python",
   "pygments_lexer": "ipython3",
   "version": "3.12.7"
  }
 },
 "nbformat": 4,
 "nbformat_minor": 5
}
